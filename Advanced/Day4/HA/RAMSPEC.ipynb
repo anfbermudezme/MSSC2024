{
 "cells": [
  {
   "cell_type": "markdown",
   "id": "077d8e8b",
   "metadata": {},
   "source": [
    "# Plotting Vibrational Spectra"
   ]
  },
  {
   "cell_type": "code",
   "execution_count": null,
   "id": "137fa747",
   "metadata": {},
   "outputs": [],
   "source": [
    "pip install CRYSTALClear"
   ]
  },
  {
   "cell_type": "markdown",
   "id": "31c0e675-ad5d-4e1b-b9c8-bc1f2b6668e4",
   "metadata": {},
   "source": [
    "After installing the package we need to import few Python modules as follows "
   ]
  },
  {
   "cell_type": "code",
   "execution_count": null,
   "id": "8d1a4755-2615-4b62-92cc-2df858f20caa",
   "metadata": {},
   "outputs": [],
   "source": [
    "from CRYSTALClear.crystal_io import External_unit\n",
    "import CRYSTALClear.plot as CCplt"
   ]
  },
  {
   "cell_type": "markdown",
   "id": "37e1af27-eab2-46fd-b360-844aaa44d11c",
   "metadata": {},
   "source": [
    "We now have to define the path of the RAMSPEC.DAT file"
   ]
  },
  {
   "cell_type": "code",
   "execution_count": null,
   "id": "f5143da4-a7b8-4d2f-a69e-e64c54bbe631",
   "metadata": {},
   "outputs": [],
   "source": [
    "path = 'output/qua_hf_2d_f-raman_10K_550nm.ramspec'"
   ]
  },
  {
   "cell_type": "markdown",
   "id": "2653ff62-e90e-4256-87e9-90e0d6d9c212",
   "metadata": {},
   "source": [
    "We can now read the RAMSPEC.DAT file and plot its content as follows"
   ]
  },
  {
   "cell_type": "code",
   "execution_count": null,
   "id": "a477297c-6a5c-4ff7-b6f4-7dcee87539f9",
   "metadata": {},
   "outputs": [],
   "source": [
    "ramspec = External_unit().read_cry_ramspec(path)\n",
    "CCplt.plot_cry_ramspec(ramspec, figsize=(16,9))"
   ]
  },
  {
   "cell_type": "markdown",
   "id": "95f941c7-264e-4d02-b31f-f755cc6a0ad5",
   "metadata": {},
   "source": [
    "We can also define a list of different ramspec files we can plot them in a single plot"
   ]
  },
  {
   "cell_type": "code",
   "execution_count": null,
   "id": "b14b9138-0f84-4bce-91b2-f78afe446770",
   "metadata": {},
   "outputs": [],
   "source": [
    "path = ['output/qua_hf_2d_f-raman_10K_550nm.ramspec', 'output/qua_hf_2d_f-raman_295K_488nm.ramspec', 'output/qua_hf_2d_f-raman_400K_550nm.ramspec']\n",
    "\n",
    "ramspec = []\n",
    "\n",
    "for file in path:\n",
    "    ramspec.append(External_unit().read_cry_ramspec(file))\n",
    "\n",
    "CCplt.plot_cry_ramspec(ramspec, figsize=(16,9), label=['10K, 550nm', '295K, 488nm', '400K, 550nm'], color=['red','green', 'blue'])"
   ]
  },
  {
   "cell_type": "markdown",
   "id": "e56b48a4",
   "metadata": {},
   "source": [
    "More on this plotting method can be found in the [documentation webpage](https://crystaldevs.github.io/CRYSTALClear/CRYSTALClear.html#CRYSTALClear.plot.plot_cry_ramspec) of CRYSTALClear. For instance, we may be interested only in a given portion of the spectrum:"
   ]
  },
  {
   "cell_type": "code",
   "execution_count": null,
   "id": "c5a62dee",
   "metadata": {},
   "outputs": [],
   "source": [
    "CCplt.plot_cry_ramspec(ramspec, freq_range=[200, 550], int_range=[0, 25], figsize=(16,9), label=['10K, 550nm', '295K, 488nm', '400K, 550nm'], color=['red','green', 'blue'])"
   ]
  }
 ],
 "metadata": {
  "kernelspec": {
   "display_name": "Python 3 (ipykernel)",
   "language": "python",
   "name": "python3"
  },
  "language_info": {
   "codemirror_mode": {
    "name": "ipython",
    "version": 3
   },
   "file_extension": ".py",
   "mimetype": "text/x-python",
   "name": "python",
   "nbconvert_exporter": "python",
   "pygments_lexer": "ipython3",
   "version": "3.9.16"
  }
 },
 "nbformat": 4,
 "nbformat_minor": 5
}
